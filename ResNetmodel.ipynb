{
 "cells": [
  {
   "cell_type": "code",
   "execution_count": null,
   "id": "992f0759-0fd2-4900-8245-dff7f2c03f02",
   "metadata": {},
   "outputs": [],
   "source": [
    "#Import libraries\n",
    "\n",
    "import os\n",
    "import cv2\n",
    "import numpy as np\n",
    "from sklearn.model_selection import train_test_split\n",
    "from tensorflow.keras.applications import ResNet50\n",
    "from tensorflow.keras.layers import Dense, Flatten, Dropout\n",
    "from keras.layers import Conv2D, MaxPooling2D, Flatten, Dense\n",
    "from tensorflow.keras.models import Model\n",
    "from tensorflow.keras.optimizers import Adam\n",
    "from tensorflow.keras.utils import to_categorical\n",
    "from keras.models import Sequential\n",
    "from flask import Flask, request, jsonify\n",
    "from keras.preprocessing import image\n",
    "from keras.models import load_model\n",
    "from keras.models import save_model\n",
    "from PIL import Image\n",
    "from matplotlib import pyplot as plt"
   ]
  },
  {
   "cell_type": "code",
   "execution_count": null,
   "id": "e7bdc79a-38b0-423f-8dcb-03d4efd59ed0",
   "metadata": {},
   "outputs": [],
   "source": [
    "def load_data(data_dir):\n",
    "    images = []\n",
    "    labels = []\n",
    "\n",
    "    for filename in os.listdir(os.path.join(data_dir, \"images\")):\n",
    "        if filename.endswith('.jpg'):\n",
    "            img_path = os.path.join(data_dir, \"images\", filename)\n",
    "            label_path = os.path.join(data_dir, \"labels\", filename.replace('.jpg', '.txt'))\n",
    "\n",
    "            if os.path.isfile(label_path):\n",
    "                with open(label_path, 'r') as label_file:\n",
    "                    line = label_file.readline().strip()\n",
    "\n",
    "                    if not line:\n",
    "                        print(f\"Empty line in file: {label_path}\")\n",
    "                        continue\n",
    "                        \n",
    "                    try:\n",
    "                        label = int(line.split()[0])\n",
    "                        labels.append(label)\n",
    "                    except (ValueError, IndexError) as e:\n",
    "                        print(f\"Error processing line in file {label_path}: {line}\")\n",
    "                        print(f\"Error details: {e}\")\n",
    "\n",
    "                # Resize the image to the expected input shape (224, 224)\n",
    "                img = cv2.imread(img_path)\n",
    "                img = cv2.resize(img, (224, 224))\n",
    "                images.append(img)\n",
    "\n",
    "    return np.array(images), np.array(labels)\n",
    "\n",
    "# Specify your dataset directory\n",
    "dataset_dir = '/Users/gurl/Desktop/BrainTumorImages/TumorDetectionYolov8/OD8/Brain Tumor Detection/train'\n",
    "\n",
    "# Load the data\n",
    "images, labels = load_data(dataset_dir)"
   ]
  },
  {
   "cell_type": "code",
   "execution_count": null,
   "id": "15c4b539-6f28-48e0-8859-012a24020885",
   "metadata": {},
   "outputs": [],
   "source": [
    "# Split dataset into training and testing sets\n",
    "\n",
    "x_train, x_test, y_train, y_test = train_test_split(images, labels, test_size=0.2, random_state=42)"
   ]
  },
  {
   "cell_type": "code",
   "execution_count": null,
   "id": "efb1ab06-0714-4e27-ad21-c30c7d95e32b",
   "metadata": {},
   "outputs": [],
   "source": [
    "# Ensure labels start from 0\n",
    "min_label = np.min(y_train)\n",
    "y_train = y_train - min_label\n",
    "y_test = y_test - min_label\n",
    "\n",
    "# Count the number of unique labels\n",
    "num_classes = len(np.unique(y_train))\n",
    "\n",
    "# Convert labels to categorical format\n",
    "y_train_categorical = to_categorical(y_train, num_classes=num_classes)\n",
    "y_test_categorical = to_categorical(y_test, num_classes=num_classes)"
   ]
  },
  {
   "cell_type": "code",
   "execution_count": null,
   "id": "b0b15194-e173-4521-9bca-ce02d8288cd9",
   "metadata": {},
   "outputs": [],
   "source": [
    "# Load the pre-trained ResNet50 model without the top layer\n",
    "base_model = ResNet50(weights='imagenet', include_top=False, input_shape=(224, 224, 3))\n",
    "\n",
    "# Add custom layers for classification\n",
    "x = base_model.output\n",
    "x = Flatten()(x)\n",
    "x = Dense(512, activation='relu')(x)\n",
    "x = Dropout(0.5)(x)\n",
    "output = Dense(num_classes, activation='softmax')(x)\n",
    "\n",
    "# Create the final model\n",
    "model = Model(inputs=base_model.input, outputs=output)\n",
    "\n",
    "# Compile the model\n",
    "model.compile(optimizer=Adam(), loss='categorical_crossentropy', metrics=['accuracy'])\n",
    "\n",
    "# Train the model\n",
    "model.fit(x_train, y_train_categorical, epochs=5, batch_size=30, validation_data=(x_test, y_test_categorical))\n",
    "\n",
    "# Evaluate the model on the test set\n",
    "accuracy = model.evaluate(x_test, y_test_categorical)[1]\n",
    "print(f'Test Accuracy: {accuracy}')"
   ]
  }
 ],
 "metadata": {
  "kernelspec": {
   "display_name": "Python 3 (ipykernel)",
   "language": "python",
   "name": "python3"
  },
  "language_info": {
   "codemirror_mode": {
    "name": "ipython",
    "version": 3
   },
   "file_extension": ".py",
   "mimetype": "text/x-python",
   "name": "python",
   "nbconvert_exporter": "python",
   "pygments_lexer": "ipython3",
   "version": "3.12.4"
  }
 },
 "nbformat": 4,
 "nbformat_minor": 5
}
